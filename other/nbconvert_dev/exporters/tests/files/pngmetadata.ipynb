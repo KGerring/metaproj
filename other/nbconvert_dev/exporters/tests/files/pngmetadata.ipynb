{
 "cells": [
  {
   "cell_type": "code",
   "execution_count": null,
   "metadata": {},
   "outputs": [],
   "source": [
    "%matplotlib inline\n",
    "%config InlineBackend.figure_formats = set(['retina'])\n",
    "import matplotlib.pyplot as plt\n",
    "plt.plot([0,1],[1,0])"
   ]
  }
 ],
 "metadata": {
  "kernelspec": {
   "display_name": "IPython mydev (Python 3)",
   "name": "python3_mydev"
  },
  "language_info": {
   "codemirror_mode": {
    "name": "ipython",
    "version": 3
   },
   "file_extension": ".py",
   "mimetype": "text/x-python",
   "name": "python",
   "nbconvert_exporter": "python",
   "pygments_lexer": "ipython3",
   "version": "3.4.2"
  }
 },
 "nbformat": 4,
 "nbformat_minor": 0
}
